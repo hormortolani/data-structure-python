{
 "cells": [
  {
   "cell_type": "markdown",
   "id": "94d43b59-1421-459d-968c-34724af1eea3",
   "metadata": {},
   "source": [
    "Python Collections (Arrays)\n",
    "There are four collection data types in the Python programming language:\n",
    "\n",
    "List is a collection which is ordered and changeable. Allows duplicate members.\n",
    "Tuple is a collection which is ordered and unchangeable. Allows duplicate members.\n",
    "Set is a collection which is unordered, unchangeable*, and unindexed. No duplicate members.\n",
    "Dictionary is a collection which is ordered** and changeable. No duplicate members."
   ]
  },
  {
   "cell_type": "markdown",
   "id": "142fc9ab-b607-4941-b3b7-c22e0904fa75",
   "metadata": {},
   "source": [
    "                                                                       #LIST"
   ]
  },
  {
   "cell_type": "markdown",
   "id": "5b1fee78-37f7-4f9e-bd4a-aba843250bbf",
   "metadata": {},
   "source": [
    "A list is a mutable, ordered collection of items in Python. It can hold elements of any type: integers, strings, even other lists. []\n",
    "Lists are used to store multiple items in a single variable.\n",
    "\n",
    "List items are ordered, changeable, and allow duplicate values.\n",
    "\n",
    "List items are indexed, the first item has index [0], the second item has index [1] etc.\n",
    "\n",
    " Mutable is when something is changeable or has the ability to change"
   ]
  },
  {
   "cell_type": "code",
   "execution_count": 20,
   "id": "39dafcc5-1c2d-4d01-8714-4c0963b2eb15",
   "metadata": {},
   "outputs": [
    {
     "name": "stdout",
     "output_type": "stream",
     "text": [
      "['watermelon', 'banana', 'apple']\n"
     ]
    }
   ],
   "source": [
    "### Example 1: creating values in list\n",
    "\n",
    "fruit = [\"watermelon\", \"banana\", \"apple\"]\n",
    "\n",
    "print(fruit)"
   ]
  },
  {
   "cell_type": "code",
   "execution_count": 12,
   "id": "8f36dfec-074e-40f8-b187-2d497826323b",
   "metadata": {},
   "outputs": [
    {
     "name": "stdout",
     "output_type": "stream",
     "text": [
      "3\n"
     ]
    }
   ],
   "source": [
    "### to check the lenght of value in list\n",
    "\n",
    "print(len(fruit))"
   ]
  },
  {
   "cell_type": "code",
   "execution_count": 22,
   "id": "0c9da00e-a195-4300-96d9-bd495f46d206",
   "metadata": {},
   "outputs": [],
   "source": [
    "#### creating list with different datatypes\n",
    "\n",
    "sales_data = [1200, 1500, 900, 2000, 1800]  \n",
    "customer_names = [\"Alice\", \"Bob\", \"Charlie\"]  \n",
    "mixed_data = [100, \"Product A\", True]  "
   ]
  },
  {
   "cell_type": "code",
   "execution_count": 18,
   "id": "eaef699c-e340-4951-9dea-c67bc8431c1c",
   "metadata": {},
   "outputs": [
    {
     "name": "stdout",
     "output_type": "stream",
     "text": [
      "<class 'list'>\n"
     ]
    }
   ],
   "source": [
    "print(type(mixed_data))"
   ]
  },
  {
   "cell_type": "code",
   "execution_count": 26,
   "id": "efffa185-b939-4f99-8ef7-cdd291a30a97",
   "metadata": {},
   "outputs": [
    {
     "name": "stdout",
     "output_type": "stream",
     "text": [
      "['spain', 'brazil', 'japan', 'sweeden', 'usa']\n"
     ]
    }
   ],
   "source": [
    "### how to access list items\n",
    "\n",
    "countries = [\"nigeria\", \"ghana\", \"spain\", \"brazil\", \"japan\", \"sweeden\", \"usa\"]\n",
    "print(countries[2:])  ###print all values after the first two"
   ]
  },
  {
   "cell_type": "code",
   "execution_count": 28,
   "id": "99156d8a-9da3-448e-a438-7195d070d6a3",
   "metadata": {},
   "outputs": [
    {
     "data": {
      "text/plain": [
       "'ghana'"
      ]
     },
     "execution_count": 28,
     "metadata": {},
     "output_type": "execute_result"
    }
   ],
   "source": [
    "countries[1] ###print the second value"
   ]
  },
  {
   "cell_type": "code",
   "execution_count": 30,
   "id": "1354933c-49a4-4e0d-b30a-5a87ed6dd9e1",
   "metadata": {},
   "outputs": [
    {
     "data": {
      "text/plain": [
       "'usa'"
      ]
     },
     "execution_count": 30,
     "metadata": {},
     "output_type": "execute_result"
    }
   ],
   "source": [
    "countries[-1] ###print the last value"
   ]
  },
  {
   "cell_type": "code",
   "execution_count": 36,
   "id": "238a8fce-d503-481a-b67b-b874c8525c12",
   "metadata": {},
   "outputs": [
    {
     "data": {
      "text/plain": [
       "['spain', 'brazil', 'japan']"
      ]
     },
     "execution_count": 36,
     "metadata": {},
     "output_type": "execute_result"
    }
   ],
   "source": [
    "countries[2:5]  "
   ]
  },
  {
   "cell_type": "code",
   "execution_count": null,
   "id": "0140d311-1f0e-474f-918c-c7025b2122d8",
   "metadata": {},
   "outputs": [],
   "source": []
  },
  {
   "cell_type": "raw",
   "id": "4ab22f4a-ab3d-43df-98e0-cc8d3080f6ab",
   "metadata": {},
   "source": [
    "Change a Range of Item Values\n",
    "To change the value of items within a specific range, define a list with the new values, and refer to the range of index numbers where you want to insert the new values:"
   ]
  },
  {
   "cell_type": "code",
   "execution_count": 40,
   "id": "f4639f83-c8a1-40a8-9aeb-d946e9800a8b",
   "metadata": {},
   "outputs": [
    {
     "name": "stdout",
     "output_type": "stream",
     "text": [
      "['nigeria', 'mexico', 'peru', 'spain', 'brazil', 'japan', 'sweeden', 'usa']\n"
     ]
    }
   ],
   "source": [
    "###changing values in list\n",
    "\n",
    "\n",
    "countries = [\"nigeria\", \"ghana\", \"spain\", \"brazil\", \"japan\", \"sweeden\", \"usa\"]\n",
    "countries[1:2] = [\"mexico\", \"peru\"]\n",
    "print(countries)"
   ]
  },
  {
   "cell_type": "code",
   "execution_count": null,
   "id": "165d6527-7ccd-40ed-b14e-3a994254c9a5",
   "metadata": {},
   "outputs": [],
   "source": []
  },
  {
   "cell_type": "raw",
   "id": "6ea994f9-fabb-4123-a2bc-c1af4a3f75e3",
   "metadata": {},
   "source": [
    "Append Items\n",
    "To add an item to the end of the list, use the append() method"
   ]
  },
  {
   "cell_type": "code",
   "execution_count": 44,
   "id": "6b19bfbe-f75e-457d-826f-77a3bbd153b8",
   "metadata": {},
   "outputs": [
    {
     "name": "stdout",
     "output_type": "stream",
     "text": [
      "['nigeria', 'ghana', 'spain', 'brazil', 'japan', 'sweeden', 'usa', 'UAE']\n"
     ]
    }
   ],
   "source": [
    "countries = [\"nigeria\", \"ghana\", \"spain\", \"brazil\", \"japan\", \"sweeden\", \"usa\"]\n",
    "countries.append(\"UAE\")\n",
    "print(countries)"
   ]
  },
  {
   "cell_type": "code",
   "execution_count": 46,
   "id": "0a2651ba-22de-493b-86b3-c065f92a1ba8",
   "metadata": {},
   "outputs": [
    {
     "name": "stdout",
     "output_type": "stream",
     "text": [
      "['nigeria', 'benin', 'ghana', 'spain', 'brazil', 'japan', 'sweeden', 'usa', 'UAE']\n"
     ]
    }
   ],
   "source": [
    "### Insert an item as the second position\n",
    "\n",
    "countries.insert(1, \"benin\")\n",
    "print(countries)"
   ]
  },
  {
   "cell_type": "code",
   "execution_count": 56,
   "id": "d62ed680-485b-41f1-a52a-1677a3792c38",
   "metadata": {},
   "outputs": [
    {
     "name": "stdout",
     "output_type": "stream",
     "text": [
      "['nigeria', 'ghana', 'spain', 'brazil', 'japan', 'sweeden', 'usa', 'lagos', 'kano', 'osun']\n"
     ]
    }
   ],
   "source": [
    "#### Extend List: To append elements from another list to the current list, use the extend() method.\n",
    "\n",
    "\n",
    "countries = [\"nigeria\", \"ghana\", \"spain\", \"brazil\", \"japan\", \"sweeden\", \"usa\"]\n",
    "state = [\"lagos\", \"kano\", \"osun\"]\n",
    "countries.extend(state)\n",
    "print(countries)"
   ]
  },
  {
   "cell_type": "code",
   "execution_count": null,
   "id": "ac9a4e51-c82b-4330-9d6d-f056111d2cac",
   "metadata": {},
   "outputs": [],
   "source": []
  },
  {
   "cell_type": "code",
   "execution_count": 62,
   "id": "c0f9ae7c-a3e6-4cd0-b579-f73e86bdc7be",
   "metadata": {},
   "outputs": [],
   "source": [
    "Remove Specified Item        countries.remove(\"kano\")     or removing using index   countries.pop(1)"
   ]
  },
  {
   "cell_type": "code",
   "execution_count": null,
   "id": "5fc77d35-6cd3-44fa-b292-eccab62272c7",
   "metadata": {},
   "outputs": [],
   "source": [
    "Sort the list alphabetically: countries.sort()              or               countries.sort(reverse = True) ##from highest to lowest"
   ]
  },
  {
   "cell_type": "code",
   "execution_count": null,
   "id": "6c33ba7b-ff44-4db0-8d58-2f065d3967d2",
   "metadata": {},
   "outputs": [],
   "source": []
  },
  {
   "cell_type": "code",
   "execution_count": 76,
   "id": "681b03f3-5e87-431d-a94b-f5f8383de95f",
   "metadata": {},
   "outputs": [
    {
     "name": "stdout",
     "output_type": "stream",
     "text": [
      "['a', 'b', 'c', 1, 2, 3]\n"
     ]
    }
   ],
   "source": [
    "###using join in list\n",
    "\n",
    "\n",
    "list1 = [\"a\", \"b\", \"c\"]\n",
    "list2 = [1, 2, 3]\n",
    "\n",
    "list3 = list1 + list2\n",
    "print(list3)"
   ]
  },
  {
   "cell_type": "code",
   "execution_count": null,
   "id": "cbb23c06-b98e-4854-8e88-b1a9835040e4",
   "metadata": {},
   "outputs": [],
   "source": []
  },
  {
   "cell_type": "markdown",
   "id": "1d6c5323-531b-4ba5-8b8f-68059e6d5dc0",
   "metadata": {},
   "source": [
    "                                                                    #Tuple\n"
   ]
  },
  {
   "cell_type": "markdown",
   "id": "f4eae7d2-c132-4c14-b60d-e4420f856840",
   "metadata": {},
   "source": [
    "Tuples are used to store multiple items in a single variable.\n",
    "\n",
    "A tuple is a collection which is ordered and unchangeable.\n",
    "\n",
    "Tuples are written with round brackets. ()\n",
    "\n",
    "Tuple items are indexed, the first item has index [0], the second item has index [1] etc."
   ]
  },
  {
   "cell_type": "code",
   "execution_count": 84,
   "id": "dff84929-a4b1-4067-aa44-2ebdc6a56a2e",
   "metadata": {},
   "outputs": [
    {
     "name": "stdout",
     "output_type": "stream",
     "text": [
      "('shade', 'eagle', 'mike', 'dara', 'moses', 'favour', 'musa')\n"
     ]
    }
   ],
   "source": [
    "names = (\"shade\", \"eagle\", \"mike\", \"dara\", \"moses\", \"favour\", \"musa\")\n",
    "print(names)"
   ]
  },
  {
   "cell_type": "code",
   "execution_count": 92,
   "id": "6f933545-3358-4b43-9494-7a1b05eda4b5",
   "metadata": {},
   "outputs": [
    {
     "name": "stdout",
     "output_type": "stream",
     "text": [
      "<class 'tuple'>\n"
     ]
    }
   ],
   "source": [
    "print(type(names))"
   ]
  },
  {
   "cell_type": "code",
   "execution_count": null,
   "id": "7a48e459-9d45-4d4a-a198-bed6859267de",
   "metadata": {},
   "outputs": [],
   "source": [
    "### Access Tuple Items\n",
    "\n",
    "print(names[1])                     print(names[-1])               print(names[2:5])"
   ]
  },
  {
   "cell_type": "code",
   "execution_count": 107,
   "id": "70bb0e8d-faaf-4d53-9874-2f1ea4894cdb",
   "metadata": {},
   "outputs": [
    {
     "name": "stdout",
     "output_type": "stream",
     "text": [
      "Yes, 'musa' is in the fruits tuple\n"
     ]
    }
   ],
   "source": [
    "if \"musa\" in names:\n",
    "  print(\"Yes, 'musa' is in the fruits tuple\")"
   ]
  },
  {
   "cell_type": "code",
   "execution_count": null,
   "id": "378c32cd-fad3-41cf-b114-a08180442e82",
   "metadata": {},
   "outputs": [],
   "source": []
  },
  {
   "cell_type": "code",
   "execution_count": 111,
   "id": "5f53b6be-45c6-4afa-8194-886e2ad3e124",
   "metadata": {},
   "outputs": [
    {
     "name": "stdout",
     "output_type": "stream",
     "text": [
      "('shade', 'eagle', 'mike', 'dara', 'moses', 'favour', 'musa', 'shayo')\n"
     ]
    }
   ],
   "source": [
    "#### Add tuple to a tuple\n",
    "\n",
    "names = (\"shade\", \"eagle\", \"mike\", \"dara\", \"moses\", \"favour\", \"musa\")\n",
    "surname = (\"shayo\",)\n",
    "names += surname\n",
    "\n",
    "print(names)"
   ]
  },
  {
   "cell_type": "code",
   "execution_count": null,
   "id": "0a984231-4e74-4d60-bf98-d84fb7bc5119",
   "metadata": {},
   "outputs": [],
   "source": []
  },
  {
   "cell_type": "markdown",
   "id": "cd910c74-af34-4275-aaec-e4df28902400",
   "metadata": {},
   "source": [
    "Remove Items: before u can remove any item in tuple, we have to convert to list and chnage back to turple after the change\n",
    "\n",
    "\n",
    "Tuples are unchangeable, so you cannot remove items from it, but you can use the same workaround as we used for changing and adding tuple items"
   ]
  },
  {
   "cell_type": "code",
   "execution_count": 115,
   "id": "cb8f3770-6048-4913-8943-8f21d62ed0e6",
   "metadata": {},
   "outputs": [
    {
     "name": "stdout",
     "output_type": "stream",
     "text": [
      "('shade', 'eagle', 'mike', 'dara', 'moses', 'musa')\n"
     ]
    }
   ],
   "source": [
    "names = (\"shade\", \"eagle\", \"mike\", \"dara\", \"moses\", \"favour\", \"musa\")\n",
    "deletename = list(names)\n",
    "deletename.remove(\"favour\")\n",
    "names = tuple(deletename)\n",
    "print(names)"
   ]
  },
  {
   "cell_type": "code",
   "execution_count": 120,
   "id": "cd24fab0-21c6-4ccc-9a42-f154bea2bd8e",
   "metadata": {},
   "outputs": [
    {
     "name": "stdout",
     "output_type": "stream",
     "text": [
      "('a', 'b', 'c', 1, 2, 3)\n"
     ]
    }
   ],
   "source": [
    "##### join in tuple \n",
    "\n",
    "\n",
    "tuple1 = (\"a\", \"b\" , \"c\")\n",
    "tuple2 = (1, 2, 3)\n",
    "\n",
    "tuple3 = tuple1 + tuple2\n",
    "print(tuple3)"
   ]
  },
  {
   "cell_type": "code",
   "execution_count": null,
   "id": "0d9598f6-ac2a-44ea-89a4-6cd63554180c",
   "metadata": {},
   "outputs": [],
   "source": []
  },
  {
   "cell_type": "markdown",
   "id": "1c2e2637-9452-4473-aebb-632f826684cd",
   "metadata": {},
   "source": [
    "                                                                    #SET"
   ]
  },
  {
   "cell_type": "markdown",
   "id": "fee6080f-a14d-4cd8-aff9-be12d4cf6c0b",
   "metadata": {},
   "source": [
    "A set is an unordered collection of unique elements.   { }\n",
    "\n",
    "🔑 Key Properties:\n",
    "Unordered\n",
    "\n",
    "No duplicates\n",
    "\n",
    "Mutable"
   ]
  },
  {
   "cell_type": "code",
   "execution_count": 135,
   "id": "5ea01a87-6458-4f4f-a2f7-fe8226328e12",
   "metadata": {},
   "outputs": [],
   "source": [
    "customers = {\"John\", \"Jane\", \"John\", \"Doe\", \"Jane\", \"peter\", \"tolu\"}"
   ]
  },
  {
   "cell_type": "code",
   "execution_count": 137,
   "id": "799e0a00-9469-4bb5-af6d-af4783e21a7f",
   "metadata": {},
   "outputs": [
    {
     "data": {
      "text/plain": [
       "{'Doe', 'Jane', 'John', 'peter', 'tolu'}"
      ]
     },
     "execution_count": 137,
     "metadata": {},
     "output_type": "execute_result"
    }
   ],
   "source": [
    "customers"
   ]
  },
  {
   "cell_type": "code",
   "execution_count": 139,
   "id": "df8b0001-2690-41a2-9c85-9a916ddde55b",
   "metadata": {},
   "outputs": [
    {
     "name": "stdout",
     "output_type": "stream",
     "text": [
      "{'John', 'peter', 'bayo', 'Jane', 'Doe', 'tolu'}\n"
     ]
    }
   ],
   "source": [
    "#### addding values in set\n",
    "\n",
    "\n",
    "customers = {\"John\", \"Jane\", \"John\", \"Doe\", \"Jane\", \"peter\", \"tolu\"}\n",
    "customers.add(\"bayo\")\n",
    "\n",
    "print(customers)"
   ]
  },
  {
   "cell_type": "code",
   "execution_count": 141,
   "id": "3156aff6-54d8-4d1e-a2ed-9d1681d8441b",
   "metadata": {},
   "outputs": [
    {
     "name": "stdout",
     "output_type": "stream",
     "text": [
      "{'mango', 'papaya', 'pineapple', 'cherry', 'banana', 'apple'}\n"
     ]
    }
   ],
   "source": [
    "values = {\"apple\", \"banana\", \"cherry\"}\n",
    "tropical = {\"pineapple\", \"mango\", \"papaya\"}\n",
    "\n",
    "values.update(tropical)\n",
    "\n",
    "print(values)"
   ]
  },
  {
   "cell_type": "code",
   "execution_count": 151,
   "id": "c48da28a-5a60-4e9a-a23b-81c88576db20",
   "metadata": {},
   "outputs": [
    {
     "name": "stdout",
     "output_type": "stream",
     "text": [
      "{'John', 'peter', 'Jane', 'Doe', 'tolu'}\n"
     ]
    }
   ],
   "source": [
    "###removing items\n",
    "\n",
    "\n",
    "customers = {\"John\", \"Jane\", \"John\", \"Doe\", \"Jane\", \"peter\", \"tolu\"}\n",
    "\n",
    "customers.discard(\"john\")\n",
    "\n",
    "print(customers)"
   ]
  },
  {
   "cell_type": "code",
   "execution_count": 153,
   "id": "ec0d3983-f85b-4a8b-b741-be0ea59a0c18",
   "metadata": {},
   "outputs": [
    {
     "name": "stdout",
     "output_type": "stream",
     "text": [
      "{1, 2, 3, 'b', 'a', 'c'}\n"
     ]
    }
   ],
   "source": [
    "### joining two set together \n",
    "\n",
    "\n",
    "set1 = {\"a\", \"b\", \"c\"}\n",
    "set2 = {1, 2, 3}\n",
    "\n",
    "set3 = set1.union(set2)\n",
    "print(set3)"
   ]
  },
  {
   "cell_type": "code",
   "execution_count": null,
   "id": "c3d012cb-2211-4440-b8d7-16d79efac124",
   "metadata": {},
   "outputs": [],
   "source": []
  },
  {
   "cell_type": "markdown",
   "id": "459af27a-a768-4e4a-aa40-00cb4a1c3d1f",
   "metadata": {},
   "source": [
    "                                                                #DICTIONARY"
   ]
  },
  {
   "cell_type": "markdown",
   "id": "1fd32bd3-dfe9-4ead-a8fb-167ad4136a62",
   "metadata": {},
   "source": [
    "Dictionaries are used to store data values in key:value pairs.\n",
    "\n",
    "A dictionary is a collection which is ordered*, changeable and do not allow duplicates. {}"
   ]
  },
  {
   "cell_type": "code",
   "execution_count": 163,
   "id": "9998686f-522b-4c85-ae40-ea8faa34fbac",
   "metadata": {},
   "outputs": [],
   "source": [
    "product_prices = {\"Laptop\": 999, \"Phone\": 699, \"Tablet\": 299}  \n",
    "customer = {\"name\": \"Alice\", \"age\": 30, \"purchases\": [\"Laptop\", \"Phone\"]}  "
   ]
  },
  {
   "cell_type": "code",
   "execution_count": 165,
   "id": "f5143e4f-c7a5-4308-90fb-65522f9b5132",
   "metadata": {},
   "outputs": [
    {
     "name": "stdout",
     "output_type": "stream",
     "text": [
      "{'Laptop': 999, 'Phone': 699, 'Tablet': 299}\n"
     ]
    }
   ],
   "source": [
    "print(product_prices)"
   ]
  },
  {
   "cell_type": "code",
   "execution_count": 171,
   "id": "d0337592-bfd6-4386-af6f-3bfd4fd302c4",
   "metadata": {},
   "outputs": [
    {
     "name": "stdout",
     "output_type": "stream",
     "text": [
      "Alice\n"
     ]
    }
   ],
   "source": [
    "#### To get specific values in a dic\n",
    "\n",
    "\n",
    "print(customer[\"name\"])"
   ]
  },
  {
   "cell_type": "code",
   "execution_count": 207,
   "id": "6126a899-a2de-4604-b655-7367b074c2bd",
   "metadata": {},
   "outputs": [
    {
     "data": {
      "text/plain": [
       "dict_keys(['name', 'age', 'purchases'])"
      ]
     },
     "execution_count": 207,
     "metadata": {},
     "output_type": "execute_result"
    }
   ],
   "source": [
    "#### The keys() method will return a list of all the keys in the dictionary.\n",
    "\n",
    "x = customer.keys()\n",
    "x"
   ]
  },
  {
   "cell_type": "code",
   "execution_count": 205,
   "id": "9a8a2ca6-bbf4-47d1-baa1-6afb090ee8dc",
   "metadata": {},
   "outputs": [
    {
     "data": {
      "text/plain": [
       "dict_values(['Alice', 30, ['Laptop', 'Phone']])"
      ]
     },
     "execution_count": 205,
     "metadata": {},
     "output_type": "execute_result"
    }
   ],
   "source": [
    "x = customer.values()\n",
    "x"
   ]
  },
  {
   "cell_type": "code",
   "execution_count": 193,
   "id": "499d03bf-9a49-4ad2-838d-f928112d4bc8",
   "metadata": {},
   "outputs": [
    {
     "data": {
      "text/plain": [
       "dict_items([('name', 'Alice'), ('age', 30), ('purchases', ['Laptop', 'Phone']), ('color', 'red')])"
      ]
     },
     "execution_count": 193,
     "metadata": {},
     "output_type": "execute_result"
    }
   ],
   "source": [
    "#The items() method will return each item in a dictionary, as tuples in a list\n",
    "\n",
    "x = customer.items()\n",
    "x"
   ]
  },
  {
   "cell_type": "code",
   "execution_count": 191,
   "id": "999698e3-bba6-443f-8d54-97f4f0a66a5d",
   "metadata": {},
   "outputs": [],
   "source": [
    "###Add a new item to the original dictionary\n",
    "\n",
    "customer[\"color\"] = \"red\""
   ]
  },
  {
   "cell_type": "markdown",
   "id": "49afe1e8-bd2c-41b4-9795-0065ac58e105",
   "metadata": {},
   "source": [
    "Change Values----------\n",
    "You can change the value of a specific item by referring to its key name:"
   ]
  },
  {
   "cell_type": "code",
   "execution_count": 199,
   "id": "b18ada67-3819-40d1-9c7d-b8414b2d993a",
   "metadata": {},
   "outputs": [
    {
     "data": {
      "text/plain": [
       "{'Laptop': 999, 'Phone': 699, 'Tablet': 299, 'laptop': 1000}"
      ]
     },
     "execution_count": 199,
     "metadata": {},
     "output_type": "execute_result"
    }
   ],
   "source": [
    "product_prices.update({\"laptop\": 1000})\n",
    "product_prices"
   ]
  },
  {
   "cell_type": "code",
   "execution_count": 201,
   "id": "2bfd578f-4659-4cd5-9727-d238677743aa",
   "metadata": {},
   "outputs": [
    {
     "data": {
      "text/plain": [
       "'red'"
      ]
     },
     "execution_count": 201,
     "metadata": {},
     "output_type": "execute_result"
    }
   ],
   "source": [
    "###how to delete values\n",
    "\n",
    "\n",
    "customer.pop(\"color\")\n"
   ]
  },
  {
   "cell_type": "markdown",
   "id": "241767dd-9449-4a17-8802-2f639a30816a",
   "metadata": {},
   "source": [
    "                                                              Nested Dictionarie\n",
    "\n",
    "Nested Dictionaries is the process whereby A dictionary can contain dictionaries"
   ]
  },
  {
   "cell_type": "code",
   "execution_count": 210,
   "id": "8ec1fba2-6ce1-47f1-9d7f-18ac94619573",
   "metadata": {},
   "outputs": [],
   "source": [
    "children = {\n",
    "  \"child1\" : {\n",
    "    \"name\" : \"precious\",\n",
    "    \"year\" : 2004,\n",
    "    \"gender\": \"female\"\n",
    "  },\n",
    "  \"child2\" : {\n",
    "    \"name\" : \"ben\",\n",
    "    \"year\" : 2007,\n",
    "    \"gender\": \"female\"\n",
    "\n",
    "  },\n",
    "  \"child3\" : {\n",
    "    \"name\" : \"saka\",\n",
    "    \"year\" : 2000,\n",
    "     \"gender\": \"male\"\n",
    "\n",
    "  }\n",
    "}"
   ]
  },
  {
   "cell_type": "code",
   "execution_count": 212,
   "id": "b431c6f1-243c-4d56-9e97-24e822ad25af",
   "metadata": {},
   "outputs": [
    {
     "name": "stdout",
     "output_type": "stream",
     "text": [
      "{'child1': {'name': 'precious', 'year': 2004, 'gender': 'female'}, 'child2': {'name': 'ben', 'year': 2007, 'gender': 'female'}, 'child3': {'name': 'saka', 'year': 2000, 'gender': 'male'}}\n"
     ]
    }
   ],
   "source": [
    "print(children)"
   ]
  },
  {
   "cell_type": "code",
   "execution_count": 214,
   "id": "c5cf2834-9119-4580-a0f7-e4a68aa3171c",
   "metadata": {},
   "outputs": [
    {
     "name": "stdout",
     "output_type": "stream",
     "text": [
      "ben\n"
     ]
    }
   ],
   "source": [
    "print(children[\"child2\"][\"name\"])"
   ]
  },
  {
   "cell_type": "code",
   "execution_count": null,
   "id": "cc24213a-f080-44a8-85d4-38458251e65f",
   "metadata": {},
   "outputs": [],
   "source": []
  },
  {
   "cell_type": "code",
   "execution_count": null,
   "id": "c48d5de8-994f-4a28-a531-58e9d5498bfc",
   "metadata": {},
   "outputs": [],
   "source": []
  }
 ],
 "metadata": {
  "kernelspec": {
   "display_name": "Python 3 (ipykernel)",
   "language": "python",
   "name": "python3"
  },
  "language_info": {
   "codemirror_mode": {
    "name": "ipython",
    "version": 3
   },
   "file_extension": ".py",
   "mimetype": "text/x-python",
   "name": "python",
   "nbconvert_exporter": "python",
   "pygments_lexer": "ipython3",
   "version": "3.12.4"
  }
 },
 "nbformat": 4,
 "nbformat_minor": 5
}
